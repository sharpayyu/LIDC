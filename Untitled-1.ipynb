{
 "cells": [
  {
   "cell_type": "code",
   "execution_count": 1,
   "metadata": {},
   "outputs": [
    {
     "name": "stdout",
     "output_type": "stream",
     "text": [
      "Requirement already satisfied: pylidc in c:\\users\\t122349uhn\\.conda\\envs\\python3_10\\lib\\site-packages (0.2.3)\n",
      "Requirement already satisfied: sqlalchemy>=1.1.5 in c:\\users\\t122349uhn\\.conda\\envs\\python3_10\\lib\\site-packages (from pylidc) (2.0.15)\n",
      "Requirement already satisfied: matplotlib>=2.0.0 in c:\\users\\t122349uhn\\.conda\\envs\\python3_10\\lib\\site-packages (from pylidc) (3.7.1)\n",
      "Requirement already satisfied: scipy>=0.18.1 in c:\\users\\t122349uhn\\.conda\\envs\\python3_10\\lib\\site-packages (from pylidc) (1.10.1)\n",
      "Requirement already satisfied: numpy>=1.12.0 in c:\\users\\t122349uhn\\.conda\\envs\\python3_10\\lib\\site-packages (from pylidc) (1.24.3)\n",
      "Requirement already satisfied: scikit-image>=0.13 in c:\\users\\t122349uhn\\.conda\\envs\\python3_10\\lib\\site-packages (from pylidc) (0.20.0)\n",
      "Requirement already satisfied: pydicom>=1.0.0 in c:\\users\\t122349uhn\\.conda\\envs\\python3_10\\lib\\site-packages (from pylidc) (2.3.1)\n",
      "Requirement already satisfied: packaging>=20.0 in c:\\users\\t122349uhn\\.conda\\envs\\python3_10\\lib\\site-packages (from matplotlib>=2.0.0->pylidc) (23.0)\n",
      "Requirement already satisfied: fonttools>=4.22.0 in c:\\users\\t122349uhn\\.conda\\envs\\python3_10\\lib\\site-packages (from matplotlib>=2.0.0->pylidc) (4.25.0)\n",
      "Requirement already satisfied: pyparsing>=2.3.1 in c:\\users\\t122349uhn\\.conda\\envs\\python3_10\\lib\\site-packages (from matplotlib>=2.0.0->pylidc) (3.0.9)\n",
      "Requirement already satisfied: cycler>=0.10 in c:\\users\\t122349uhn\\.conda\\envs\\python3_10\\lib\\site-packages (from matplotlib>=2.0.0->pylidc) (0.11.0)\n",
      "Requirement already satisfied: contourpy>=1.0.1 in c:\\users\\t122349uhn\\.conda\\envs\\python3_10\\lib\\site-packages (from matplotlib>=2.0.0->pylidc) (1.0.5)\n",
      "Requirement already satisfied: pillow>=6.2.0 in c:\\users\\t122349uhn\\.conda\\envs\\python3_10\\lib\\site-packages (from matplotlib>=2.0.0->pylidc) (9.4.0)\n",
      "Requirement already satisfied: kiwisolver>=1.0.1 in c:\\users\\t122349uhn\\.conda\\envs\\python3_10\\lib\\site-packages (from matplotlib>=2.0.0->pylidc) (1.4.4)\n",
      "Requirement already satisfied: python-dateutil>=2.7 in c:\\users\\t122349uhn\\.conda\\envs\\python3_10\\lib\\site-packages (from matplotlib>=2.0.0->pylidc) (2.8.2)\n",
      "Requirement already satisfied: tifffile>=2019.7.26 in c:\\users\\t122349uhn\\.conda\\envs\\python3_10\\lib\\site-packages (from scikit-image>=0.13->pylidc) (2021.7.2)\n",
      "Requirement already satisfied: networkx>=2.8 in c:\\users\\t122349uhn\\.conda\\envs\\python3_10\\lib\\site-packages (from scikit-image>=0.13->pylidc) (2.8.4)\n",
      "Requirement already satisfied: lazy_loader>=0.1 in c:\\users\\t122349uhn\\.conda\\envs\\python3_10\\lib\\site-packages (from scikit-image>=0.13->pylidc) (0.1)\n",
      "Requirement already satisfied: imageio>=2.4.1 in c:\\users\\t122349uhn\\.conda\\envs\\python3_10\\lib\\site-packages (from scikit-image>=0.13->pylidc) (2.26.0)\n",
      "Requirement already satisfied: PyWavelets>=1.1.1 in c:\\users\\t122349uhn\\.conda\\envs\\python3_10\\lib\\site-packages (from scikit-image>=0.13->pylidc) (1.4.1)\n",
      "Requirement already satisfied: greenlet!=0.4.17 in c:\\users\\t122349uhn\\.conda\\envs\\python3_10\\lib\\site-packages (from sqlalchemy>=1.1.5->pylidc) (2.0.2)\n",
      "Requirement already satisfied: typing-extensions>=4.2.0 in c:\\users\\t122349uhn\\.conda\\envs\\python3_10\\lib\\site-packages (from sqlalchemy>=1.1.5->pylidc) (4.5.0)\n",
      "Requirement already satisfied: six>=1.5 in c:\\users\\t122349uhn\\.conda\\envs\\python3_10\\lib\\site-packages (from python-dateutil>=2.7->matplotlib>=2.0.0->pylidc) (1.16.0)\n",
      "Note: you may need to restart the kernel to use updated packages.\n"
     ]
    }
   ],
   "source": [
    "pip install pylidc"
   ]
  },
  {
   "cell_type": "code",
   "execution_count": 2,
   "metadata": {},
   "outputs": [],
   "source": [
    "import pylidc as pl\n"
   ]
  },
  {
   "cell_type": "code",
   "execution_count": 5,
   "metadata": {},
   "outputs": [
    {
     "name": "stdout",
     "output_type": "stream",
     "text": [
      "31\n"
     ]
    }
   ],
   "source": [
    "#The pylidc.Scan class holds some (but not all!) of the DICOM attributes associated with the CT\n",
    "#scans in the LIDC dataset. These attributes can be used to query the data\n",
    "\n",
    "# Query for all CT scans with desired traits\n",
    "scans = pl.query(pl.Scan).filter(pl.Scan.slice_thickness <= 1,\n",
    "                                 pl.Scan.pixel_spacing <= 0.6)\n",
    "print(scans.count())\n",
    "# => 31\n",
    "\n",
    "pid = 'LIDC-IDRI-0078' #patient ID\n",
    "# fetch the first scan of this specific patient ID\n",
    "scan = pl.query(pl.Scan).filter(pl.Scan.patient_id == pid).first()"
   ]
  },
  {
   "cell_type": "code",
   "execution_count": 13,
   "metadata": {},
   "outputs": [
    {
     "name": "stdout",
     "output_type": "stream",
     "text": [
      "13\n"
     ]
    }
   ],
   "source": [
    "print(len(scan.annotations))\n",
    "# => 13"
   ]
  },
  {
   "cell_type": "code",
   "execution_count": 17,
   "metadata": {},
   "outputs": [
    {
     "ename": "TypeError",
     "evalue": "object of type 'method' has no len()",
     "output_type": "error",
     "traceback": [
      "\u001b[1;31m---------------------------------------------------------------------------\u001b[0m",
      "\u001b[1;31mTypeError\u001b[0m                                 Traceback (most recent call last)",
      "Cell \u001b[1;32mIn[17], line 6\u001b[0m\n\u001b[0;32m      1\u001b[0m \u001b[39m# since this scan has 13 annotation, to find the ones corresponding to different nodules\u001b[39;00m\n\u001b[0;32m      2\u001b[0m \u001b[39m# use pylidc.Scan.cluster_annotations() method\u001b[39;00m\n\u001b[0;32m      3\u001b[0m \u001b[39m# which uses a distance function to create an adjancency graph to determine which annotations refer to the same nodule in a scan\u001b[39;00m\n\u001b[0;32m      4\u001b[0m nods \u001b[39m=\u001b[39m scan\u001b[39m.\u001b[39mcluster_annotations\n\u001b[1;32m----> 6\u001b[0m \u001b[39mprint\u001b[39m(\u001b[39m\"\u001b[39m\u001b[39m%s\u001b[39;00m\u001b[39m has \u001b[39m\u001b[39m%d\u001b[39;00m\u001b[39m nodules.\u001b[39m\u001b[39m\"\u001b[39m \u001b[39m%\u001b[39m (scan, \u001b[39mlen\u001b[39;49m(nods)))\n",
      "\u001b[1;31mTypeError\u001b[0m: object of type 'method' has no len()"
     ]
    }
   ],
   "source": [
    "# since this scan has 13 annotation, to find the ones corresponding to different nodules\n",
    "# use pylidc.Scan.cluster_annotations() method\n",
    "# which uses a distance function to create an adjancency graph to determine which annotations refer to the same nodule in a scan\n",
    "nods = scan.cluster_annotations\n",
    "\n",
    "print(\"%s has %d nodules.\" % (scan, len(nods)))\n",
    "# => Scan(id=1,patient_id=LIDC-IDRI-0078) has 4 nodules.\n",
    "\n",
    "\n",
    "\n"
   ]
  },
  {
   "cell_type": "code",
   "execution_count": null,
   "metadata": {},
   "outputs": [],
   "source": []
  }
 ],
 "metadata": {
  "kernelspec": {
   "display_name": "python3_10",
   "language": "python",
   "name": "python3"
  },
  "language_info": {
   "codemirror_mode": {
    "name": "ipython",
    "version": 3
   },
   "file_extension": ".py",
   "mimetype": "text/x-python",
   "name": "python",
   "nbconvert_exporter": "python",
   "pygments_lexer": "ipython3",
   "version": "3.10.11"
  },
  "orig_nbformat": 4
 },
 "nbformat": 4,
 "nbformat_minor": 2
}
